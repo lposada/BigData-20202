{
 "cells": [
  {
   "cell_type": "code",
   "execution_count": 1,
   "metadata": {},
   "outputs": [
    {
     "data": {
      "application/vnd.jupyter.widget-view+json": {
       "model_id": "c866fc60f7b24dcd9e98f5e2beed18c6",
       "version_major": 2,
       "version_minor": 0
      },
      "text/plain": [
       "VBox()"
      ]
     },
     "metadata": {},
     "output_type": "display_data"
    },
    {
     "name": "stdout",
     "output_type": "stream",
     "text": [
      "Starting Spark application\n"
     ]
    },
    {
     "data": {
      "text/html": [
       "<table>\n",
       "<tr><th>ID</th><th>YARN Application ID</th><th>Kind</th><th>State</th><th>Spark UI</th><th>Driver log</th><th>Current session?</th></tr><tr><td>0</td><td>application_1606684756221_0002</td><td>pyspark</td><td>idle</td><td><a target=\"_blank\" href=\"http://ip-172-31-38-155.ec2.internal:20888/proxy/application_1606684756221_0002/\">Link</a></td><td><a target=\"_blank\" href=\"http://ip-172-31-36-234.ec2.internal:8042/node/containerlogs/container_1606684756221_0002_01_000001/livy\">Link</a></td><td>✔</td></tr></table>"
      ],
      "text/plain": [
       "<IPython.core.display.HTML object>"
      ]
     },
     "metadata": {},
     "output_type": "display_data"
    },
    {
     "data": {
      "application/vnd.jupyter.widget-view+json": {
       "model_id": "",
       "version_major": 2,
       "version_minor": 0
      },
      "text/plain": [
       "FloatProgress(value=0.0, bar_style='info', description='Progress:', layout=Layout(height='25px', width='50%'),…"
      ]
     },
     "metadata": {},
     "output_type": "display_data"
    },
    {
     "name": "stdout",
     "output_type": "stream",
     "text": [
      "SparkSession available as 'spark'.\n"
     ]
    },
    {
     "data": {
      "application/vnd.jupyter.widget-view+json": {
       "model_id": "",
       "version_major": 2,
       "version_minor": 0
      },
      "text/plain": [
       "FloatProgress(value=0.0, bar_style='info', description='Progress:', layout=Layout(height='25px', width='50%'),…"
      ]
     },
     "metadata": {},
     "output_type": "display_data"
    },
    {
     "name": "stdout",
     "output_type": "stream",
     "text": [
      "<pyspark.sql.session.SparkSession object at 0x7ff313138610>"
     ]
    }
   ],
   "source": [
    "spark"
   ]
  },
  {
   "cell_type": "code",
   "execution_count": 2,
   "metadata": {},
   "outputs": [
    {
     "data": {
      "application/vnd.jupyter.widget-view+json": {
       "model_id": "76f77aaae9934d67ba5a6a9e651a280b",
       "version_major": 2,
       "version_minor": 0
      },
      "text/plain": [
       "VBox()"
      ]
     },
     "metadata": {},
     "output_type": "display_data"
    },
    {
     "data": {
      "application/vnd.jupyter.widget-view+json": {
       "model_id": "",
       "version_major": 2,
       "version_minor": 0
      },
      "text/plain": [
       "FloatProgress(value=0.0, bar_style='info', description='Progress:', layout=Layout(height='25px', width='50%'),…"
      ]
     },
     "metadata": {},
     "output_type": "display_data"
    },
    {
     "name": "stdout",
     "output_type": "stream",
     "text": [
      "<SparkContext master=yarn appName=livy-session-0>"
     ]
    }
   ],
   "source": [
    "sc"
   ]
  },
  {
   "cell_type": "code",
   "execution_count": 24,
   "metadata": {},
   "outputs": [
    {
     "data": {
      "application/vnd.jupyter.widget-view+json": {
       "model_id": "e39a939190e546b991e7beefe2c60654",
       "version_major": 2,
       "version_minor": 0
      },
      "text/plain": [
       "VBox()"
      ]
     },
     "metadata": {},
     "output_type": "display_data"
    },
    {
     "data": {
      "application/vnd.jupyter.widget-view+json": {
       "model_id": "",
       "version_major": 2,
       "version_minor": 0
      },
      "text/plain": [
       "FloatProgress(value=0.0, bar_style='info', description='Progress:', layout=Layout(height='25px', width='50%'),…"
      ]
     },
     "metadata": {},
     "output_type": "display_data"
    }
   ],
   "source": [
    "datos = spark.read.csv('s3://aws-logs-351694975232-us-east-1/datasets/spark/Casos_positivos_de_COVID-19_en_Colombia.csv', inferSchema=True, header=True)"
   ]
  },
  {
   "cell_type": "code",
   "execution_count": 25,
   "metadata": {},
   "outputs": [
    {
     "data": {
      "application/vnd.jupyter.widget-view+json": {
       "model_id": "621a9fd2d6464099b544c95e6f88e4e8",
       "version_major": 2,
       "version_minor": 0
      },
      "text/plain": [
       "VBox()"
      ]
     },
     "metadata": {},
     "output_type": "display_data"
    },
    {
     "data": {
      "application/vnd.jupyter.widget-view+json": {
       "model_id": "",
       "version_major": 2,
       "version_minor": 0
      },
      "text/plain": [
       "FloatProgress(value=0.0, bar_style='info', description='Progress:', layout=Layout(height='25px', width='50%'),…"
      ]
     },
     "metadata": {},
     "output_type": "display_data"
    },
    {
     "name": "stdout",
     "output_type": "stream",
     "text": [
      "6211 16"
     ]
    }
   ],
   "source": [
    "print(datos.count(), len(datos.columns))"
   ]
  },
  {
   "cell_type": "code",
   "execution_count": 26,
   "metadata": {},
   "outputs": [
    {
     "data": {
      "application/vnd.jupyter.widget-view+json": {
       "model_id": "8f139c0953fa4498abe3fe3c55c6f872",
       "version_major": 2,
       "version_minor": 0
      },
      "text/plain": [
       "VBox()"
      ]
     },
     "metadata": {},
     "output_type": "display_data"
    },
    {
     "data": {
      "application/vnd.jupyter.widget-view+json": {
       "model_id": "",
       "version_major": 2,
       "version_minor": 0
      },
      "text/plain": [
       "FloatProgress(value=0.0, bar_style='info', description='Progress:', layout=Layout(height='25px', width='50%'),…"
      ]
     },
     "metadata": {},
     "output_type": "display_data"
    },
    {
     "name": "stdout",
     "output_type": "stream",
     "text": [
      "+----------+---------------------+---------------+-------------------+------------------------+----------+----+----+-----------+------+--------------------+--------------------+---------------+-------------------+--------------------+-------------------+\n",
      "|ID de caso|Fecha de notificación|Codigo DIVIPOLA|Ciudad de ubicación|Departamento o Distrito |  atención|Edad|Sexo|       Tipo|Estado| País de procedencia|                 FIS|Fecha de muerte|  Fecha diagnostico|    Fecha recuperado|  fecha reporte web|\n",
      "+----------+---------------------+---------------+-------------------+------------------------+----------+----+----+-----------+------+--------------------+--------------------+---------------+-------------------+--------------------+-------------------+\n",
      "|         1|  2020-03-02 00:00:00|          11001|        Bogotá D.C.|             Bogotá D.C.|Recuperado|  19|   F|  Importado|  Leve|              Italia|2020-02-27T00:00:...|          -   -|2020-03-06 00:00:00|2020-03-13T00:00:...|2020-03-06 00:00:00|\n",
      "|         2|  2020-03-06 00:00:00|          76111|Guadalajara de Buga|         Valle del Cauca|Recuperado|  34|   M|  Importado|  Leve|              España|2020-03-04T00:00:...|          -   -|2020-03-09 00:00:00|2020-03-19T00:00:...|2020-03-09 00:00:00|\n",
      "|         3|  2020-03-07 00:00:00|           5001|           Medellín|               Antioquia|Recuperado|  50|   F|  Importado|  Leve|              España|2020-02-29T00:00:...|          -   -|2020-03-09 00:00:00|2020-03-15T00:00:...|2020-03-09 00:00:00|\n",
      "|         4|  2020-03-09 00:00:00|           5001|           Medellín|               Antioquia|Recuperado|  55|   M|Relacionado|  Leve|            Colombia|2020-03-06T00:00:...|          -   -|2020-03-11 00:00:00|2020-03-26T00:00:...|2020-03-11 00:00:00|\n",
      "|         5|  2020-03-09 00:00:00|           5001|           Medellín|               Antioquia|Recuperado|  25|   M|Relacionado|  Leve|            Colombia|2020-03-08T00:00:...|          -   -|2020-03-11 00:00:00|2020-03-23T00:00:...|2020-03-11 00:00:00|\n",
      "|         6|  2020-03-10 00:00:00|           5360|             Itagüí|               Antioquia|Recuperado|  27|   F|Relacionado|  Leve|            Colombia|2020-03-06T00:00:...|          -   -|2020-03-11 00:00:00|2020-03-26T00:00:...|2020-03-11 00:00:00|\n",
      "|         7|  2020-03-08 00:00:00|          13001|Cartagena de Indias|     Cartagena D.T. y C.|Recuperado|  85|   F|  Importado|  Leve|Estados Unidos de...|2020-03-02T00:00:...|          -   -|2020-03-11 00:00:00|2020-03-17T00:00:...|2020-03-11 00:00:00|\n",
      "|         8|  2020-03-09 00:00:00|          11001|        Bogotá D.C.|             Bogotá D.C.|Recuperado|  22|   F|  Importado|  Leve|              España|2020-03-06T00:00:...|          -   -|2020-03-11 00:00:00|2020-03-21T00:00:...|2020-03-11 00:00:00|\n",
      "|         9|  2020-03-08 00:00:00|          11001|        Bogotá D.C.|             Bogotá D.C.|Recuperado|  28|   F|  Importado|  Leve|              España|2020-03-07T00:00:...|          -   -|2020-03-11 00:00:00|2020-03-23T00:00:...|2020-03-11 00:00:00|\n",
      "|        10|  2020-03-12 00:00:00|          11001|        Bogotá D.C.|             Bogotá D.C.|Recuperado|  36|   F|  Importado|  Leve|              España|2020-03-06T00:00:...|          -   -|2020-03-12 00:00:00|2020-03-21T00:00:...|2020-03-12 00:00:00|\n",
      "|        11|  2020-03-11 00:00:00|          11001|        Bogotá D.C.|             Bogotá D.C.|Recuperado|  42|   F|  Importado|  Leve|              España|2020-03-06T00:00:...|          -   -|2020-03-12 00:00:00|2020-03-31T00:00:...|2020-03-12 00:00:00|\n",
      "|        12|  2020-03-10 00:00:00|          41001|              Neiva|                   Huila|Recuperado|  74|   F|  Importado|  Leve|              Italia|2020-03-06T00:00:...|          -   -|2020-03-12 00:00:00|2020-04-09T00:00:...|2020-03-12 00:00:00|\n",
      "|        13|  2020-03-10 00:00:00|          41001|              Neiva|                   Huila|Recuperado|  68|   F|Relacionado|  Leve|            Colombia|2020-03-06T00:00:...|          -   -|2020-03-12 00:00:00|2020-03-30T00:00:...|2020-03-12 00:00:00|\n",
      "|        14|  2020-03-10 00:00:00|          76520|            Palmira|         Valle del Cauca|Recuperado|  48|   M|  Importado|  Leve|              España|2020-03-07T00:00:...|          -   -|2020-03-13 00:00:00|2020-03-21T00:00:...|2020-03-13 00:00:00|\n",
      "|        15|  2020-03-13 00:00:00|          50001|      Villavicencio|                    Meta|Recuperado|  30|   F|  Importado|  Leve|              España|2020-03-09T00:00:...|          -   -|2020-03-13 00:00:00|2020-03-23T00:00:...|2020-03-13 00:00:00|\n",
      "|        16|  2020-03-11 00:00:00|          11001|        Bogotá D.C.|             Bogotá D.C.|Recuperado|  61|   F|  Importado|  Leve|              Italia|2020-03-08T00:00:...|          -   -|2020-03-13 00:00:00|2020-03-23T00:00:...|2020-03-13 00:00:00|\n",
      "|        17|  2020-03-11 00:00:00|          11001|        Bogotá D.C.|             Bogotá D.C.|Recuperado|  73|   F|  Importado|  Leve|              España|2020-02-28T00:00:...|          -   -|2020-03-14 00:00:00|2020-03-14T00:00:...|2020-03-14 00:00:00|\n",
      "|        18|  2020-03-11 00:00:00|          11001|        Bogotá D.C.|             Bogotá D.C.|Recuperado|  54|   M|  Importado|  Leve|              España|2020-03-07T00:00:...|          -   -|2020-03-14 00:00:00|2020-04-07T00:00:...|2020-03-14 00:00:00|\n",
      "|        19|  2020-03-12 00:00:00|          11001|        Bogotá D.C.|             Bogotá D.C.|Recuperado|  54|   F|Relacionado|  Leve|            Colombia|2020-03-09T00:00:...|          -   -|2020-03-14 00:00:00|2020-03-24T00:00:...|2020-03-14 00:00:00|\n",
      "|        20|  2020-03-11 00:00:00|           5001|           Medellín|               Antioquia|Recuperado|  26|   F|Relacionado|  Leve|            Colombia|2020-03-09T00:00:...|          -   -|2020-03-14 00:00:00|2020-03-24T00:00:...|2020-03-14 00:00:00|\n",
      "+----------+---------------------+---------------+-------------------+------------------------+----------+----+----+-----------+------+--------------------+--------------------+---------------+-------------------+--------------------+-------------------+\n",
      "only showing top 20 rows"
     ]
    }
   ],
   "source": [
    "datos.show()"
   ]
  },
  {
   "cell_type": "code",
   "execution_count": 27,
   "metadata": {},
   "outputs": [
    {
     "data": {
      "application/vnd.jupyter.widget-view+json": {
       "model_id": "4c32a4638d3e44599148e7e32f09d736",
       "version_major": 2,
       "version_minor": 0
      },
      "text/plain": [
       "VBox()"
      ]
     },
     "metadata": {},
     "output_type": "display_data"
    },
    {
     "data": {
      "application/vnd.jupyter.widget-view+json": {
       "model_id": "",
       "version_major": 2,
       "version_minor": 0
      },
      "text/plain": [
       "FloatProgress(value=0.0, bar_style='info', description='Progress:', layout=Layout(height='25px', width='50%'),…"
      ]
     },
     "metadata": {},
     "output_type": "display_data"
    }
   ],
   "source": [
    "#Definir la funcion para agregar las columnas"
   ]
  },
  {
   "cell_type": "code",
   "execution_count": 28,
   "metadata": {},
   "outputs": [
    {
     "data": {
      "application/vnd.jupyter.widget-view+json": {
       "model_id": "e0c8fdb1e0bf4c7f8df368bd89aa0a92",
       "version_major": 2,
       "version_minor": 0
      },
      "text/plain": [
       "VBox()"
      ]
     },
     "metadata": {},
     "output_type": "display_data"
    },
    {
     "data": {
      "application/vnd.jupyter.widget-view+json": {
       "model_id": "",
       "version_major": 2,
       "version_minor": 0
      },
      "text/plain": [
       "FloatProgress(value=0.0, bar_style='info', description='Progress:', layout=Layout(height='25px', width='50%'),…"
      ]
     },
     "metadata": {},
     "output_type": "display_data"
    }
   ],
   "source": [
    "def edad_etapa(edad):\n",
    "    etapa = ''\n",
    "    if (edad<=5):\n",
    "        etapa = 'primera infancia'\n",
    "    elif (5<edad<=11):\n",
    "        etapa = 'infancia'\n",
    "    elif (12<edad<=18):\n",
    "        etapa = 'adolescencia'\n",
    "    elif (18<edad<=26):\n",
    "        etapa = 'juventud'\n",
    "    elif (26<edad<=59):\n",
    "        etapa = 'adultez'\n",
    "    elif (edad>=60):\n",
    "        etapa = 'vejez'\n",
    "    return etapa"
   ]
  },
  {
   "cell_type": "code",
   "execution_count": 30,
   "metadata": {},
   "outputs": [
    {
     "data": {
      "application/vnd.jupyter.widget-view+json": {
       "model_id": "0de7182171dc4e948c5216b53037c55d",
       "version_major": 2,
       "version_minor": 0
      },
      "text/plain": [
       "VBox()"
      ]
     },
     "metadata": {},
     "output_type": "display_data"
    },
    {
     "data": {
      "application/vnd.jupyter.widget-view+json": {
       "model_id": "",
       "version_major": 2,
       "version_minor": 0
      },
      "text/plain": [
       "FloatProgress(value=0.0, bar_style='info', description='Progress:', layout=Layout(height='25px', width='50%'),…"
      ]
     },
     "metadata": {},
     "output_type": "display_data"
    },
    {
     "name": "stdout",
     "output_type": "stream",
     "text": [
      "+----+\n",
      "|edad|\n",
      "+----+\n",
      "|  19|\n",
      "|  34|\n",
      "|  50|\n",
      "|  55|\n",
      "|  25|\n",
      "|  27|\n",
      "|  85|\n",
      "|  22|\n",
      "|  28|\n",
      "|  36|\n",
      "|  42|\n",
      "|  74|\n",
      "|  68|\n",
      "|  48|\n",
      "|  30|\n",
      "|  61|\n",
      "|  73|\n",
      "|  54|\n",
      "|  54|\n",
      "|  26|\n",
      "+----+\n",
      "only showing top 20 rows"
     ]
    }
   ],
   "source": [
    "datos.select('edad').show()"
   ]
  },
  {
   "cell_type": "code",
   "execution_count": 35,
   "metadata": {},
   "outputs": [
    {
     "data": {
      "application/vnd.jupyter.widget-view+json": {
       "model_id": "b646fa8c0ba843beb668514c301b3126",
       "version_major": 2,
       "version_minor": 0
      },
      "text/plain": [
       "VBox()"
      ]
     },
     "metadata": {},
     "output_type": "display_data"
    },
    {
     "data": {
      "application/vnd.jupyter.widget-view+json": {
       "model_id": "",
       "version_major": 2,
       "version_minor": 0
      },
      "text/plain": [
       "FloatProgress(value=0.0, bar_style='info', description='Progress:', layout=Layout(height='25px', width='50%'),…"
      ]
     },
     "metadata": {},
     "output_type": "display_data"
    },
    {
     "name": "stdout",
     "output_type": "stream",
     "text": [
      "+----------+---------------------+---------------+-------------------+------------------------+----------+----+----+-----------+------+--------------------+--------------------+---------------+-------------------+--------------------+-------------------+--------+\n",
      "|ID de caso|Fecha de notificación|Codigo DIVIPOLA|Ciudad de ubicación|Departamento o Distrito |  atención|Edad|Sexo|       Tipo|Estado| País de procedencia|                 FIS|Fecha de muerte|  Fecha diagnostico|    Fecha recuperado|  fecha reporte web|   Etapa|\n",
      "+----------+---------------------+---------------+-------------------+------------------------+----------+----+----+-----------+------+--------------------+--------------------+---------------+-------------------+--------------------+-------------------+--------+\n",
      "|         1|  2020-03-02 00:00:00|          11001|        Bogotá D.C.|             Bogotá D.C.|Recuperado|  19|   F|  Importado|  Leve|              Italia|2020-02-27T00:00:...|          -   -|2020-03-06 00:00:00|2020-03-13T00:00:...|2020-03-06 00:00:00|juventud|\n",
      "|         2|  2020-03-06 00:00:00|          76111|Guadalajara de Buga|         Valle del Cauca|Recuperado|  34|   M|  Importado|  Leve|              España|2020-03-04T00:00:...|          -   -|2020-03-09 00:00:00|2020-03-19T00:00:...|2020-03-09 00:00:00| adultez|\n",
      "|         3|  2020-03-07 00:00:00|           5001|           Medellín|               Antioquia|Recuperado|  50|   F|  Importado|  Leve|              España|2020-02-29T00:00:...|          -   -|2020-03-09 00:00:00|2020-03-15T00:00:...|2020-03-09 00:00:00| adultez|\n",
      "|         4|  2020-03-09 00:00:00|           5001|           Medellín|               Antioquia|Recuperado|  55|   M|Relacionado|  Leve|            Colombia|2020-03-06T00:00:...|          -   -|2020-03-11 00:00:00|2020-03-26T00:00:...|2020-03-11 00:00:00| adultez|\n",
      "|         5|  2020-03-09 00:00:00|           5001|           Medellín|               Antioquia|Recuperado|  25|   M|Relacionado|  Leve|            Colombia|2020-03-08T00:00:...|          -   -|2020-03-11 00:00:00|2020-03-23T00:00:...|2020-03-11 00:00:00|juventud|\n",
      "|         6|  2020-03-10 00:00:00|           5360|             Itagüí|               Antioquia|Recuperado|  27|   F|Relacionado|  Leve|            Colombia|2020-03-06T00:00:...|          -   -|2020-03-11 00:00:00|2020-03-26T00:00:...|2020-03-11 00:00:00| adultez|\n",
      "|         7|  2020-03-08 00:00:00|          13001|Cartagena de Indias|     Cartagena D.T. y C.|Recuperado|  85|   F|  Importado|  Leve|Estados Unidos de...|2020-03-02T00:00:...|          -   -|2020-03-11 00:00:00|2020-03-17T00:00:...|2020-03-11 00:00:00|   vejez|\n",
      "|         8|  2020-03-09 00:00:00|          11001|        Bogotá D.C.|             Bogotá D.C.|Recuperado|  22|   F|  Importado|  Leve|              España|2020-03-06T00:00:...|          -   -|2020-03-11 00:00:00|2020-03-21T00:00:...|2020-03-11 00:00:00|juventud|\n",
      "|         9|  2020-03-08 00:00:00|          11001|        Bogotá D.C.|             Bogotá D.C.|Recuperado|  28|   F|  Importado|  Leve|              España|2020-03-07T00:00:...|          -   -|2020-03-11 00:00:00|2020-03-23T00:00:...|2020-03-11 00:00:00| adultez|\n",
      "|        10|  2020-03-12 00:00:00|          11001|        Bogotá D.C.|             Bogotá D.C.|Recuperado|  36|   F|  Importado|  Leve|              España|2020-03-06T00:00:...|          -   -|2020-03-12 00:00:00|2020-03-21T00:00:...|2020-03-12 00:00:00| adultez|\n",
      "|        11|  2020-03-11 00:00:00|          11001|        Bogotá D.C.|             Bogotá D.C.|Recuperado|  42|   F|  Importado|  Leve|              España|2020-03-06T00:00:...|          -   -|2020-03-12 00:00:00|2020-03-31T00:00:...|2020-03-12 00:00:00| adultez|\n",
      "|        12|  2020-03-10 00:00:00|          41001|              Neiva|                   Huila|Recuperado|  74|   F|  Importado|  Leve|              Italia|2020-03-06T00:00:...|          -   -|2020-03-12 00:00:00|2020-04-09T00:00:...|2020-03-12 00:00:00|   vejez|\n",
      "|        13|  2020-03-10 00:00:00|          41001|              Neiva|                   Huila|Recuperado|  68|   F|Relacionado|  Leve|            Colombia|2020-03-06T00:00:...|          -   -|2020-03-12 00:00:00|2020-03-30T00:00:...|2020-03-12 00:00:00|   vejez|\n",
      "|        14|  2020-03-10 00:00:00|          76520|            Palmira|         Valle del Cauca|Recuperado|  48|   M|  Importado|  Leve|              España|2020-03-07T00:00:...|          -   -|2020-03-13 00:00:00|2020-03-21T00:00:...|2020-03-13 00:00:00| adultez|\n",
      "|        15|  2020-03-13 00:00:00|          50001|      Villavicencio|                    Meta|Recuperado|  30|   F|  Importado|  Leve|              España|2020-03-09T00:00:...|          -   -|2020-03-13 00:00:00|2020-03-23T00:00:...|2020-03-13 00:00:00| adultez|\n",
      "|        16|  2020-03-11 00:00:00|          11001|        Bogotá D.C.|             Bogotá D.C.|Recuperado|  61|   F|  Importado|  Leve|              Italia|2020-03-08T00:00:...|          -   -|2020-03-13 00:00:00|2020-03-23T00:00:...|2020-03-13 00:00:00|   vejez|\n",
      "|        17|  2020-03-11 00:00:00|          11001|        Bogotá D.C.|             Bogotá D.C.|Recuperado|  73|   F|  Importado|  Leve|              España|2020-02-28T00:00:...|          -   -|2020-03-14 00:00:00|2020-03-14T00:00:...|2020-03-14 00:00:00|   vejez|\n",
      "|        18|  2020-03-11 00:00:00|          11001|        Bogotá D.C.|             Bogotá D.C.|Recuperado|  54|   M|  Importado|  Leve|              España|2020-03-07T00:00:...|          -   -|2020-03-14 00:00:00|2020-04-07T00:00:...|2020-03-14 00:00:00| adultez|\n",
      "|        19|  2020-03-12 00:00:00|          11001|        Bogotá D.C.|             Bogotá D.C.|Recuperado|  54|   F|Relacionado|  Leve|            Colombia|2020-03-09T00:00:...|          -   -|2020-03-14 00:00:00|2020-03-24T00:00:...|2020-03-14 00:00:00| adultez|\n",
      "|        20|  2020-03-11 00:00:00|           5001|           Medellín|               Antioquia|Recuperado|  26|   F|Relacionado|  Leve|            Colombia|2020-03-09T00:00:...|          -   -|2020-03-14 00:00:00|2020-03-24T00:00:...|2020-03-14 00:00:00|juventud|\n",
      "+----------+---------------------+---------------+-------------------+------------------------+----------+----+----+-----------+------+--------------------+--------------------+---------------+-------------------+--------------------+-------------------+--------+\n",
      "only showing top 20 rows"
     ]
    }
   ],
   "source": [
    "#Agregar Columna\n",
    "etapa_udf = spark.udf.register('Etapas', edad_etapa)\n",
    "\n",
    "datos.withColumn('Etapa', etapa_udf(datos['Edad'])).show(20)"
   ]
  },
  {
   "cell_type": "code",
   "execution_count": 36,
   "metadata": {},
   "outputs": [
    {
     "data": {
      "application/vnd.jupyter.widget-view+json": {
       "model_id": "03d4be40f0fe4185ace334e0fbdc7a20",
       "version_major": 2,
       "version_minor": 0
      },
      "text/plain": [
       "VBox()"
      ]
     },
     "metadata": {},
     "output_type": "display_data"
    },
    {
     "data": {
      "application/vnd.jupyter.widget-view+json": {
       "model_id": "",
       "version_major": 2,
       "version_minor": 0
      },
      "text/plain": [
       "FloatProgress(value=0.0, bar_style='info', description='Progress:', layout=Layout(height='25px', width='50%'),…"
      ]
     },
     "metadata": {},
     "output_type": "display_data"
    }
   ],
   "source": [
    "#Eliminar Columna\n",
    "datos2 = datos.drop('fecha reporte web')"
   ]
  },
  {
   "cell_type": "code",
   "execution_count": 37,
   "metadata": {},
   "outputs": [
    {
     "data": {
      "application/vnd.jupyter.widget-view+json": {
       "model_id": "de90c42faa01424989d885d3c703c75b",
       "version_major": 2,
       "version_minor": 0
      },
      "text/plain": [
       "VBox()"
      ]
     },
     "metadata": {},
     "output_type": "display_data"
    },
    {
     "data": {
      "application/vnd.jupyter.widget-view+json": {
       "model_id": "",
       "version_major": 2,
       "version_minor": 0
      },
      "text/plain": [
       "FloatProgress(value=0.0, bar_style='info', description='Progress:', layout=Layout(height='25px', width='50%'),…"
      ]
     },
     "metadata": {},
     "output_type": "display_data"
    },
    {
     "name": "stdout",
     "output_type": "stream",
     "text": [
      "+----------+---------------------+---------------+-------------------+------------------------+----------+----+----+-----------+------+-------------------+--------------------+---------------+-------------------+--------------------+\n",
      "|ID de caso|Fecha de notificación|Codigo DIVIPOLA|Ciudad de ubicación|Departamento o Distrito |  atención|Edad|Sexo|       Tipo|Estado|País de procedencia|                 FIS|Fecha de muerte|  Fecha diagnostico|    Fecha recuperado|\n",
      "+----------+---------------------+---------------+-------------------+------------------------+----------+----+----+-----------+------+-------------------+--------------------+---------------+-------------------+--------------------+\n",
      "|         1|  2020-03-02 00:00:00|          11001|        Bogotá D.C.|             Bogotá D.C.|Recuperado|  19|   F|  Importado|  Leve|             Italia|2020-02-27T00:00:...|          -   -|2020-03-06 00:00:00|2020-03-13T00:00:...|\n",
      "|         2|  2020-03-06 00:00:00|          76111|Guadalajara de Buga|         Valle del Cauca|Recuperado|  34|   M|  Importado|  Leve|             España|2020-03-04T00:00:...|          -   -|2020-03-09 00:00:00|2020-03-19T00:00:...|\n",
      "|         3|  2020-03-07 00:00:00|           5001|           Medellín|               Antioquia|Recuperado|  50|   F|  Importado|  Leve|             España|2020-02-29T00:00:...|          -   -|2020-03-09 00:00:00|2020-03-15T00:00:...|\n",
      "|         4|  2020-03-09 00:00:00|           5001|           Medellín|               Antioquia|Recuperado|  55|   M|Relacionado|  Leve|           Colombia|2020-03-06T00:00:...|          -   -|2020-03-11 00:00:00|2020-03-26T00:00:...|\n",
      "|         5|  2020-03-09 00:00:00|           5001|           Medellín|               Antioquia|Recuperado|  25|   M|Relacionado|  Leve|           Colombia|2020-03-08T00:00:...|          -   -|2020-03-11 00:00:00|2020-03-23T00:00:...|\n",
      "|         6|  2020-03-10 00:00:00|           5360|             Itagüí|               Antioquia|Recuperado|  27|   F|Relacionado|  Leve|           Colombia|2020-03-06T00:00:...|          -   -|2020-03-11 00:00:00|2020-03-26T00:00:...|\n",
      "+----------+---------------------+---------------+-------------------+------------------------+----------+----+----+-----------+------+-------------------+--------------------+---------------+-------------------+--------------------+\n",
      "only showing top 6 rows"
     ]
    }
   ],
   "source": [
    "datos2.show(6)"
   ]
  },
  {
   "cell_type": "code",
   "execution_count": 40,
   "metadata": {},
   "outputs": [
    {
     "data": {
      "application/vnd.jupyter.widget-view+json": {
       "model_id": "6e57ffd14149432caccc4fa6a1543cf3",
       "version_major": 2,
       "version_minor": 0
      },
      "text/plain": [
       "VBox()"
      ]
     },
     "metadata": {},
     "output_type": "display_data"
    },
    {
     "data": {
      "application/vnd.jupyter.widget-view+json": {
       "model_id": "",
       "version_major": 2,
       "version_minor": 0
      },
      "text/plain": [
       "FloatProgress(value=0.0, bar_style='info', description='Progress:', layout=Layout(height='25px', width='50%'),…"
      ]
     },
     "metadata": {},
     "output_type": "display_data"
    },
    {
     "name": "stdout",
     "output_type": "stream",
     "text": [
      "+----+---------+------------+\n",
      "|Edad|   Estado|    atención|\n",
      "+----+---------+------------+\n",
      "|  82|    Grave|Hospital UCI|\n",
      "|  49|     Leve|        Casa|\n",
      "|  54|     Leve|  Recuperado|\n",
      "|  66|     Leve|  Recuperado|\n",
      "|  82|     Leve|  Recuperado|\n",
      "|  34|    Grave|Hospital UCI|\n",
      "|  47| Moderado|  Recuperado|\n",
      "|  80|     Leve|  Recuperado|\n",
      "|  27| Moderado|    Hospital|\n",
      "|  46|     Leve|  Recuperado|\n",
      "|  74|     Leve|  Recuperado|\n",
      "|  53|     Leve|  Recuperado|\n",
      "|  91|Fallecido|   Fallecido|\n",
      "|  35|     Leve|        Casa|\n",
      "|  79|    Grave|Hospital UCI|\n",
      "|  76|     Leve|        Casa|\n",
      "|  29| Moderado|    Hospital|\n",
      "|  58|    Grave|Hospital UCI|\n",
      "|  84|Fallecido|   Fallecido|\n",
      "|  16|     Leve|  Recuperado|\n",
      "+----+---------+------------+\n",
      "only showing top 20 rows"
     ]
    }
   ],
   "source": [
    "#Filtrado de datos\n",
    "datos.select('Edad', 'Estado', 'atención').distinct().show()"
   ]
  },
  {
   "cell_type": "code",
   "execution_count": 43,
   "metadata": {},
   "outputs": [
    {
     "data": {
      "application/vnd.jupyter.widget-view+json": {
       "model_id": "20d8854d2a114f5883a3884e40beb7c6",
       "version_major": 2,
       "version_minor": 0
      },
      "text/plain": [
       "VBox()"
      ]
     },
     "metadata": {},
     "output_type": "display_data"
    },
    {
     "data": {
      "application/vnd.jupyter.widget-view+json": {
       "model_id": "",
       "version_major": 2,
       "version_minor": 0
      },
      "text/plain": [
       "FloatProgress(value=0.0, bar_style='info', description='Progress:', layout=Layout(height='25px', width='50%'),…"
      ]
     },
     "metadata": {},
     "output_type": "display_data"
    },
    {
     "name": "stdout",
     "output_type": "stream",
     "text": [
      "+-------------------+--------------------+--------+\n",
      "|  Fecha diagnostico|    Fecha recuperado|  Estado|\n",
      "+-------------------+--------------------+--------+\n",
      "|2020-03-24 00:00:00|2020-04-13T23:59:...|    Leve|\n",
      "|2020-03-27 00:00:00|               -   -|Moderado|\n",
      "|2020-04-07 00:00:00|2020-04-14T23:59:...|    Leve|\n",
      "|2020-04-05 00:00:00|2020-04-14T00:00:...|Moderado|\n",
      "|2020-04-01 00:00:00|2020-04-08T00:00:...|    Leve|\n",
      "|2020-04-08 00:00:00|2020-04-04T00:00:...|    Leve|\n",
      "|2020-04-03 00:00:00|2020-04-12T00:00:...|Moderado|\n",
      "|2020-03-25 00:00:00|2020-04-06T00:00:...|    Leve|\n",
      "|2020-03-20 00:00:00|               -   -|    Leve|\n",
      "|2020-04-12 00:00:00|2020-04-21T00:00:...|    Leve|\n",
      "|2020-04-02 00:00:00|2020-04-23T00:00:...|    Leve|\n",
      "|2020-04-09 00:00:00|2020-04-16T23:59:...|    Leve|\n",
      "|2020-04-12 00:00:00|               -   -|Moderado|\n",
      "|2020-04-12 00:00:00|2020-04-24T23:59:...|    Leve|\n",
      "|2020-03-30 00:00:00|2020-04-18T00:00:...|    Leve|\n",
      "|2020-04-15 00:00:00|2020-04-25T23:59:...|    Leve|\n",
      "|2020-03-25 00:00:00|2020-04-13T23:59:...|    Leve|\n",
      "|2020-03-28 00:00:00|2020-04-03T00:00:...|    Leve|\n",
      "|2020-04-07 00:00:00|2020-04-16T00:00:...|    Leve|\n",
      "|2020-04-09 00:00:00|               -   -|    Leve|\n",
      "+-------------------+--------------------+--------+\n",
      "only showing top 20 rows"
     ]
    }
   ],
   "source": [
    "datos.select('Fecha diagnostico', 'Fecha recuperado', 'Estado').distinct().show()"
   ]
  },
  {
   "cell_type": "code",
   "execution_count": 45,
   "metadata": {},
   "outputs": [
    {
     "data": {
      "application/vnd.jupyter.widget-view+json": {
       "model_id": "dff26bc399f443528bcfac38d169fe02",
       "version_major": 2,
       "version_minor": 0
      },
      "text/plain": [
       "VBox()"
      ]
     },
     "metadata": {},
     "output_type": "display_data"
    },
    {
     "data": {
      "application/vnd.jupyter.widget-view+json": {
       "model_id": "",
       "version_major": 2,
       "version_minor": 0
      },
      "text/plain": [
       "FloatProgress(value=0.0, bar_style='info', description='Progress:', layout=Layout(height='25px', width='50%'),…"
      ]
     },
     "metadata": {},
     "output_type": "display_data"
    },
    {
     "name": "stdout",
     "output_type": "stream",
     "text": [
      "+----+-----+\n",
      "|Sexo|count|\n",
      "+----+-----+\n",
      "|   M| 3290|\n",
      "|   f|    3|\n",
      "|   F| 2917|\n",
      "|   m|    1|\n",
      "+----+-----+"
     ]
    }
   ],
   "source": [
    "datos.groupBy('Sexo').count().show()"
   ]
  },
  {
   "cell_type": "code",
   "execution_count": 47,
   "metadata": {},
   "outputs": [
    {
     "data": {
      "application/vnd.jupyter.widget-view+json": {
       "model_id": "80c0e1448cbf49e7bdb51f8992c6384f",
       "version_major": 2,
       "version_minor": 0
      },
      "text/plain": [
       "VBox()"
      ]
     },
     "metadata": {},
     "output_type": "display_data"
    },
    {
     "data": {
      "application/vnd.jupyter.widget-view+json": {
       "model_id": "",
       "version_major": 2,
       "version_minor": 0
      },
      "text/plain": [
       "FloatProgress(value=0.0, bar_style='info', description='Progress:', layout=Layout(height='25px', width='50%'),…"
      ]
     },
     "metadata": {},
     "output_type": "display_data"
    },
    {
     "name": "stdout",
     "output_type": "stream",
     "text": [
      "+--------------------+-----+\n",
      "| País de procedencia|count|\n",
      "+--------------------+-----+\n",
      "|            Colombia| 5401|\n",
      "|              España|  258|\n",
      "|Estados Unidos de...|  206|\n",
      "|             Ecuador|   47|\n",
      "|              México|   46|\n",
      "|              Panamá|   34|\n",
      "|              Brasil|   30|\n",
      "|             Turquía|   28|\n",
      "|             Jamaica|   16|\n",
      "|             Francia|   15|\n",
      "|         Reino Unido|   14|\n",
      "|         Puerto Rico|   13|\n",
      "|              Egipto|   11|\n",
      "|            Alemania|   10|\n",
      "|              Italia|    9|\n",
      "|República Dominicana|    9|\n",
      "|                Perú|    9|\n",
      "|San Martín (Francia)|    7|\n",
      "|              Israel|    5|\n",
      "|              Grecia|    4|\n",
      "+--------------------+-----+\n",
      "only showing top 20 rows"
     ]
    }
   ],
   "source": [
    "datos.groupBy('País de procedencia').count().orderBy('count', ascending=False).show()"
   ]
  },
  {
   "cell_type": "code",
   "execution_count": 48,
   "metadata": {},
   "outputs": [
    {
     "data": {
      "application/vnd.jupyter.widget-view+json": {
       "model_id": "96acd1e87dff431aab11d0839c0c4377",
       "version_major": 2,
       "version_minor": 0
      },
      "text/plain": [
       "VBox()"
      ]
     },
     "metadata": {},
     "output_type": "display_data"
    },
    {
     "data": {
      "application/vnd.jupyter.widget-view+json": {
       "model_id": "",
       "version_major": 2,
       "version_minor": 0
      },
      "text/plain": [
       "FloatProgress(value=0.0, bar_style='info', description='Progress:', layout=Layout(height='25px', width='50%'),…"
      ]
     },
     "metadata": {},
     "output_type": "display_data"
    }
   ],
   "source": [
    "url = 's3://aws-logs-351694975232-us-east-1/notebooks/laboratorio/resultados/covid'\n",
    "\n",
    "datos.coalesce(1).write.format('csv').option('header','True').save(url)"
   ]
  },
  {
   "cell_type": "code",
   "execution_count": null,
   "metadata": {},
   "outputs": [],
   "source": []
  }
 ],
 "metadata": {
  "kernelspec": {
   "display_name": "PySpark",
   "language": "",
   "name": "pysparkkernel"
  },
  "language_info": {
   "codemirror_mode": {
    "name": "python",
    "version": 2
   },
   "mimetype": "text/x-python",
   "name": "pyspark",
   "pygments_lexer": "python2"
  }
 },
 "nbformat": 4,
 "nbformat_minor": 4
}
